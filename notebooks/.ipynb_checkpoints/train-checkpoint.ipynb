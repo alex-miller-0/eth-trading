{
 "metadata": {
  "name": ""
 },
 "nbformat": 3,
 "nbformat_minor": 0,
 "worksheets": [
  {
   "cells": [
    {
     "cell_type": "markdown",
     "metadata": {},
     "source": [
      "# Predict ETH\n",
      "The overall goal is to predict if the price of ETH (in terms of BTC) is going to go up or down.\n",
      "\n",
      "## Problem Definition\n",
      "Specifically, I want to determine if the price of ETH is going to be **>1% higher in the next trading window**. Since ETH is traded 24/7, there are no true \"open\" or \"close\" times, so I want to chunk time windows into 6 hour chunks, thus I will define 4 trading periods a day:\n",
      "\n",
      "* **00:00:00 GMT - 05:59:59 GMT**\n",
      "* **06:00:00 GMT - 11:59:59 GMT**\n",
      "* **12:00:00 GMT - 17:59:59 GMT**\n",
      "* **18:00:00 GMT - 23:59:59 GMT**\n",
      "\n",
      "## Price Definition\n",
      "The price will be defined as the **last trade on the first minute** of any given trading window, as pulled from BitMEX.\n",
      "\n",
      "Okay, let's get started..."
     ]
    },
    {
     "cell_type": "code",
     "collapsed": false,
     "input": [
      "import pandas as pd\n",
      "import numpy as np\n",
      "import pymysql as sql\n",
      "import sys,os\n",
      "from datetime import datetime, timedelta"
     ],
     "language": "python",
     "metadata": {},
     "outputs": [],
     "prompt_number": 10
    },
    {
     "cell_type": "code",
     "collapsed": false,
     "input": [
      "host = os.environ['ETH_SQL_HOST']\n",
      "password = os.environ['ETH_SQL_PASSWORD']\n",
      "user = os.environ['ETH_SQL_USER']\n",
      "db = os.environ['ETH_SQL_DB']\n",
      "con = sql.connect(host=host, user=user, passwd=password, db=db)"
     ],
     "language": "python",
     "metadata": {},
     "outputs": [],
     "prompt_number": 2
    },
    {
     "cell_type": "code",
     "collapsed": false,
     "input": [
      "df_prices = pd.read_sql('SELECT * FROM BitMexPrice ORDER BY timestamp', con)\n",
      "df_trades = pd.read_sql('SELECT * FROM BitMexTrades ORDER BY timestamp', con)"
     ],
     "language": "python",
     "metadata": {},
     "outputs": [],
     "prompt_number": 3
    },
    {
     "cell_type": "code",
     "collapsed": false,
     "input": [
      "df = pd.merge(df_prices, df_trades, on='timestamp')\n",
      "del df[\"id_x\"]\n",
      "del df[\"id_y\"]"
     ],
     "language": "python",
     "metadata": {},
     "outputs": [],
     "prompt_number": 8
    },
    {
     "cell_type": "code",
     "collapsed": false,
     "input": [
      "test = df.head()"
     ],
     "language": "python",
     "metadata": {},
     "outputs": [],
     "prompt_number": 21
    },
    {
     "cell_type": "markdown",
     "metadata": {},
     "source": [
      "### Transformations\n",
      "I need to transform the timestamp into two numbers:\n",
      "\n",
      "* **Window number** (window 0 is 2015-08-10 00:00:00 - 2016-08-10 06:00:00)\n",
      "* **Minute number within window** (there are 6x60 = 360 total minutes in the window)\n"
     ]
    },
    {
     "cell_type": "code",
     "collapsed": false,
     "input": [
      "def get_window(ts):\n",
      "    origin = datetime(2015,8,10,0,0,0)\n",
      "    seconds = (ts - origin).total_seconds()\n",
      "    return seconds // 21600\n",
      "\n",
      "def get_minute(ts):\n",
      "    hour = ts.hour\n",
      "    minute = ts.minute\n",
      "    return ((hour*60) + minute) - ((hour//6)*6*60)"
     ],
     "language": "python",
     "metadata": {},
     "outputs": [],
     "prompt_number": 61
    },
    {
     "cell_type": "code",
     "collapsed": false,
     "input": [
      "df[\"window\"] = df[\"timestamp\"].apply(get_window)\n",
      "df[\"minute\"] = df[\"timestamp\"].apply(get_minute)\n",
      "del df[\"timestamp\"]"
     ],
     "language": "python",
     "metadata": {},
     "outputs": [],
     "prompt_number": 66
    },
    {
     "cell_type": "markdown",
     "metadata": {},
     "source": [
      "### Features\n",
      "Here I will list a bunch of features that I want to include. Remember that the time units are 6 hour windows.\n",
      "\n",
      "* Volume traded in window\n",
      "* Net price change in window\n",
      "* Max price in window\n",
      "* Min price in window\n",
      "* Average price in window\n",
      "* Standard deviation of price in window\n",
      "* Number of trades in window\n",
      "* Maximum upward swing in window: change in price during time period when there were no 5 consecutive downward turns\n",
      "* Maximum downward swing in window: change in price during time period when there were no 5 consecutive upward turns\n",
      "* Number of upward turns\n",
      "* Number of downward turns\n"
     ]
    },
    {
     "cell_type": "code",
     "collapsed": false,
     "input": [
      "df.head()"
     ],
     "language": "python",
     "metadata": {},
     "outputs": [
      {
       "html": [
        "<div style=\"max-width:1500px;overflow:auto;\">\n",
        "<table border=\"1\" class=\"dataframe\">\n",
        "  <thead>\n",
        "    <tr style=\"text-align: right;\">\n",
        "      <th></th>\n",
        "      <th>price</th>\n",
        "      <th>size</th>\n",
        "      <th>trades</th>\n",
        "      <th>volume</th>\n",
        "      <th>lastSize</th>\n",
        "      <th>window</th>\n",
        "      <th>minute</th>\n",
        "    </tr>\n",
        "  </thead>\n",
        "  <tbody>\n",
        "    <tr>\n",
        "      <th>0</th>\n",
        "      <td>0.00249</td>\n",
        "      <td>0</td>\n",
        "      <td>0</td>\n",
        "      <td>0</td>\n",
        "      <td>0</td>\n",
        "      <td>0</td>\n",
        "      <td>300</td>\n",
        "    </tr>\n",
        "    <tr>\n",
        "      <th>1</th>\n",
        "      <td>0.00249</td>\n",
        "      <td>0</td>\n",
        "      <td>0</td>\n",
        "      <td>0</td>\n",
        "      <td>0</td>\n",
        "      <td>0</td>\n",
        "      <td>301</td>\n",
        "    </tr>\n",
        "    <tr>\n",
        "      <th>2</th>\n",
        "      <td>0.00249</td>\n",
        "      <td>0</td>\n",
        "      <td>0</td>\n",
        "      <td>0</td>\n",
        "      <td>0</td>\n",
        "      <td>0</td>\n",
        "      <td>302</td>\n",
        "    </tr>\n",
        "    <tr>\n",
        "      <th>3</th>\n",
        "      <td>0.00249</td>\n",
        "      <td>0</td>\n",
        "      <td>0</td>\n",
        "      <td>0</td>\n",
        "      <td>0</td>\n",
        "      <td>0</td>\n",
        "      <td>303</td>\n",
        "    </tr>\n",
        "    <tr>\n",
        "      <th>4</th>\n",
        "      <td>0.00249</td>\n",
        "      <td>0</td>\n",
        "      <td>0</td>\n",
        "      <td>0</td>\n",
        "      <td>0</td>\n",
        "      <td>0</td>\n",
        "      <td>304</td>\n",
        "    </tr>\n",
        "  </tbody>\n",
        "</table>\n",
        "</div>"
       ],
       "metadata": {},
       "output_type": "pyout",
       "prompt_number": 68,
       "text": [
        "     price  size  trades  volume  lastSize  window  minute\n",
        "0  0.00249     0       0       0         0       0     300\n",
        "1  0.00249     0       0       0         0       0     301\n",
        "2  0.00249     0       0       0         0       0     302\n",
        "3  0.00249     0       0       0         0       0     303\n",
        "4  0.00249     0       0       0         0       0     304"
       ]
      }
     ],
     "prompt_number": 68
    },
    {
     "cell_type": "code",
     "collapsed": false,
     "input": [
      "def pipeline(df):\n",
      "    pass"
     ],
     "language": "python",
     "metadata": {},
     "outputs": [],
     "prompt_number": 69
    },
    {
     "cell_type": "code",
     "collapsed": false,
     "input": [],
     "language": "python",
     "metadata": {},
     "outputs": []
    }
   ],
   "metadata": {}
  }
 ]
}